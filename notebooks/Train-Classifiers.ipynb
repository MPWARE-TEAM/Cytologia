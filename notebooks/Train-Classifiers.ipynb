{
 "cells": [
  {
   "cell_type": "markdown",
   "id": "202a53bf-84f9-4982-a74e-9f9f3fbf6765",
   "metadata": {},
   "source": [
    "# Train image classifiers with Pytorch Lightning\n",
    "- Baseline training: 5 models (Timm, ImageNet pretrained weights from huggingface)\n",
    "- Ensemble and finetuning\n",
    "   - Round1: Finetune 3 models from baseline.\n",
    "   - Round2: Finetune 3 models and train 2 more models.\n",
    "   - Final: Grid search for best weights to maximize score on cross-validation.\n",
    "- Modify REPORT_TO variable below to \"none\" if you don't want to use wandb to follow the training metrics."
   ]
  },
  {
   "cell_type": "code",
   "execution_count": 1,
   "id": "5277ed2a-5ea8-4c1f-afae-104108d0f937",
   "metadata": {},
   "outputs": [
    {
     "name": "stderr",
     "output_type": "stream",
     "text": [
      "/home/mpware/miniconda3/envs/ml310/lib/python3.10/site-packages/albumentations/__init__.py:24: UserWarning: A new version of Albumentations is available: 2.0.0 (you have 1.4.22). Upgrade using: pip install -U albumentations. To disable automatic update checks, set the environment variable NO_ALBUMENTATIONS_UPDATE to 1.\n",
      "  check_for_updates()\n"
     ]
    }
   ],
   "source": [
    "import sys\n",
    "sys.path.append(\"../code/src\")\n",
    "import cdc\n",
    "from cdc.common.utils import *\n",
    "from cdc.common.constants import *\n",
    "from cdc.common.metrics import *\n",
    "from cdc.models.pl.classifier import *\n",
    "from cdc.models.pl.dataset import *\n",
    "from cdc.utils.imaging import *\n",
    "from cdc.script.inferv1 import *\n",
    "from cdc.script.trainv1 import *\n",
    "from cdc.script.utils import *\n",
    "from cdc.yolo.tools import *\n",
    "from cdc.yolo.inference import *\n",
    "from cdc.utils.imaging import *"
   ]
  },
  {
   "cell_type": "code",
   "execution_count": 2,
   "id": "b4d9515b-9a73-41bb-b2b8-b23b9bc75a76",
   "metadata": {},
   "outputs": [],
   "source": [
    "import glob, os, time, random, gc, sys, math, re\n",
    "import numpy as np\n",
    "import pandas as pd\n",
    "import seaborn as sns\n",
    "from matplotlib import pyplot as plt\n",
    "from collections import OrderedDict\n",
    "import shutil\n",
    "from tqdm import tqdm\n",
    "sns.set(style='whitegrid', rc={\"grid.linewidth\": 0.1})\n",
    "sns.set_context(\"paper\", font_scale=0.8) \n",
    "import PIL\n",
    "from PIL import Image\n",
    "import cv2\n",
    "import torch\n",
    "import torch.nn as nn\n",
    "import torch.nn.functional as F\n",
    "from sklearn.metrics import confusion_matrix, ConfusionMatrixDisplay, classification_report\n",
    "from sklearn.metrics import cohen_kappa_score, f1_score, accuracy_score\n",
    "import wandb\n",
    "import albumentations as A\n",
    "from albumentations.pytorch import ToTensorV2\n",
    "from huggingface_hub import login"
   ]
  },
  {
   "cell_type": "code",
   "execution_count": 3,
   "id": "d5e61a05-42d2-47d4-b48e-6615532a1d6f",
   "metadata": {},
   "outputs": [
    {
     "name": "stdout",
     "output_type": "stream",
     "text": [
      "Python 3.10.13 (main, Sep 11 2023, 13:44:35) [GCC 11.2.0]\n",
      "Numpy 1.26.4\n",
      "Pandas 2.2.2\n",
      "Torch 2.5.1+cu124\n",
      "Lightning 2.4.0\n",
      "Albumentations 1.4.22\n",
      "CDC 1.0.0\n"
     ]
    }
   ],
   "source": [
    "print(\"Python\", sys.version)\n",
    "print(\"Numpy\", np.__version__)\n",
    "print(\"Pandas\", pd.__version__)\n",
    "print(\"Torch\", torch.__version__)\n",
    "print(\"Lightning\", L.__version__)\n",
    "print(\"Albumentations\", A.__version__)\n",
    "print(\"CDC\", cdc.__version__)"
   ]
  },
  {
   "cell_type": "code",
   "execution_count": 4,
   "id": "b8742a45-8c8b-41e2-98b2-6acf1e58264e",
   "metadata": {},
   "outputs": [
    {
     "name": "stderr",
     "output_type": "stream",
     "text": [
      "Seed set to 42\n"
     ]
    }
   ],
   "source": [
    "DATA_HOME = \"../data\"\n",
    "IMAGES_HOME = os.path.join(DATA_HOME, \"images_cytologia\")\n",
    "MODELS_HOME = \"../models/RGB\"\n",
    "CONFIG_HOME = \"../code\"\n",
    "\n",
    "MARGINS = 16\n",
    "ROOT = \"yolox_s\"\n",
    "\n",
    "TRAIN_FILE = os.path.join(DATA_HOME, \"cv4_seed42_multilabel.parquet\")\n",
    "BACKGROUND_HOME = os.path.join(DATA_HOME, \"background\")\n",
    "BACKGROUND_FILE = os.path.join(DATA_HOME, \"cv4_seed42_background.parquet\")\n",
    "BOXES_HOME = os.path.join(DATA_HOME, \"boxes\", \"%s_640_v3.2.0_0.0010_0.300_0.250_full_m%d_seed42_train_cleaned\" % (ROOT, MARGINS))\n",
    "BOXES_TEST_HOME = os.path.join(DATA_HOME, \"boxes\", \"%s_640_v3.2.0_0.0010_0.300_0.250_full_m%d_seed42_test_cleaned\" % (ROOT, MARGINS))\n",
    "TEST_FILE = os.path.join(DATA_HOME, \"test.csv\")\n",
    "TEST_YOLOX31_RAW_FILE = os.path.join(DATA_HOME, \"test_raw_yolox_s_512_v3.1.parquet\") # Yolox3.1 prediction before WBF\n",
    "BOXES_TEST_YOLOX31_HOME = os.path.join(DATA_HOME, \"boxes\", \"%s_512_v3.1_0.0010_0.300_0.250_full_m%d_seed42_test_cleaned\" % (ROOT, MARGINS)) # Yolox3.1 prediction after WBF / cleaning\n",
    "\n",
    "SEEDS = [42]\n",
    "seed_everything_now(SEEDS[0])\n",
    "seed_everything(SEEDS[0], workers=True)\n",
    "torch.set_float32_matmul_precision('high')\n",
    "\n",
    "INFERENCE_NAME = \"_inference_yoloxv3.1_5models\"\n",
    "REPORT_TO = \"wandb\" # \"none\"\n",
    "\n",
    "# Hugging face token if needed\n",
    "# login(token = \"YOURHFTOKENHEREFORTIMMIMAGENETPRETRAINEDWEIGHTS\")"
   ]
  },
  {
   "cell_type": "code",
   "execution_count": null,
   "id": "1fdb1721-cb14-4de9-b1eb-f8dd3d6c4f43",
   "metadata": {},
   "outputs": [],
   "source": [
    "# Copy background images to boxes folder. It takes a few minutes\n",
    "os.makedirs(os.path.join(BOXES_HOME, \"background\"), exist_ok=True)\n",
    "shutil.copytree(BACKGROUND_HOME, os.path.join(BOXES_HOME, \"background\"), dirs_exist_ok = True)"
   ]
  },
  {
   "cell_type": "markdown",
   "id": "ecfe8e80-67d5-4d05-ab08-8f5533afc7bc",
   "metadata": {},
   "source": [
    "## Training : Baseline (5 models)\n",
    "Run them one by one (restart notebook) if you get GPU memory issues."
   ]
  },
  {
   "cell_type": "code",
   "execution_count": 5,
   "id": "e99b43c4-7475-4848-91df-c9b8ad8ea6aa",
   "metadata": {},
   "outputs": [
    {
     "data": {
      "text/html": [
       "<div>\n",
       "<style scoped>\n",
       "    .dataframe tbody tr th:only-of-type {\n",
       "        vertical-align: middle;\n",
       "    }\n",
       "\n",
       "    .dataframe tbody tr th {\n",
       "        vertical-align: top;\n",
       "    }\n",
       "\n",
       "    .dataframe thead th {\n",
       "        text-align: right;\n",
       "    }\n",
       "</style>\n",
       "<table border=\"1\" class=\"dataframe\">\n",
       "  <thead>\n",
       "    <tr style=\"text-align: right;\">\n",
       "      <th></th>\n",
       "      <th>filename</th>\n",
       "      <th>NAME</th>\n",
       "      <th>src</th>\n",
       "      <th>img_width</th>\n",
       "      <th>img_height</th>\n",
       "      <th>phash</th>\n",
       "      <th>mean</th>\n",
       "      <th>std</th>\n",
       "      <th>img_surface</th>\n",
       "      <th>bb_avg_surface_ratio</th>\n",
       "      <th>...</th>\n",
       "      <th>LH_lyAct</th>\n",
       "      <th>LM</th>\n",
       "      <th>LZMG</th>\n",
       "      <th>SS</th>\n",
       "      <th>multilabel</th>\n",
       "      <th>surface_bin</th>\n",
       "      <th>bb_avg_surface_ratio_bin</th>\n",
       "      <th>mean_bin</th>\n",
       "      <th>std_bin</th>\n",
       "      <th>fold_s42</th>\n",
       "    </tr>\n",
       "  </thead>\n",
       "  <tbody>\n",
       "    <tr>\n",
       "      <th>0</th>\n",
       "      <td>images_cytologia/00008cef-c.jpg</td>\n",
       "      <td>00008cef-c.jpg</td>\n",
       "      <td>train</td>\n",
       "      <td>368</td>\n",
       "      <td>370</td>\n",
       "      <td>b787daa066b8d247</td>\n",
       "      <td>209.093224</td>\n",
       "      <td>42.264992</td>\n",
       "      <td>136160</td>\n",
       "      <td>16.521739</td>\n",
       "      <td>...</td>\n",
       "      <td>0</td>\n",
       "      <td>0</td>\n",
       "      <td>0</td>\n",
       "      <td>0</td>\n",
       "      <td>0</td>\n",
       "      <td>0</td>\n",
       "      <td>1</td>\n",
       "      <td>4</td>\n",
       "      <td>2</td>\n",
       "      <td>1</td>\n",
       "    </tr>\n",
       "    <tr>\n",
       "      <th>1</th>\n",
       "      <td>images_cytologia/00010aae-3.jpg</td>\n",
       "      <td>00010aae-3.jpg</td>\n",
       "      <td>train</td>\n",
       "      <td>352</td>\n",
       "      <td>357</td>\n",
       "      <td>b4b0c86c26fe0f1f</td>\n",
       "      <td>186.580450</td>\n",
       "      <td>48.086801</td>\n",
       "      <td>125664</td>\n",
       "      <td>24.112713</td>\n",
       "      <td>...</td>\n",
       "      <td>0</td>\n",
       "      <td>0</td>\n",
       "      <td>0</td>\n",
       "      <td>0</td>\n",
       "      <td>3</td>\n",
       "      <td>0</td>\n",
       "      <td>1</td>\n",
       "      <td>2</td>\n",
       "      <td>2</td>\n",
       "      <td>0</td>\n",
       "    </tr>\n",
       "    <tr>\n",
       "      <th>2</th>\n",
       "      <td>images_cytologia/00016779-d.jpg</td>\n",
       "      <td>00016779-d.jpg</td>\n",
       "      <td>train</td>\n",
       "      <td>352</td>\n",
       "      <td>357</td>\n",
       "      <td>e9ca8c4c60943fbf</td>\n",
       "      <td>188.245209</td>\n",
       "      <td>47.232337</td>\n",
       "      <td>125664</td>\n",
       "      <td>18.382353</td>\n",
       "      <td>...</td>\n",
       "      <td>0</td>\n",
       "      <td>0</td>\n",
       "      <td>0</td>\n",
       "      <td>0</td>\n",
       "      <td>3</td>\n",
       "      <td>0</td>\n",
       "      <td>1</td>\n",
       "      <td>3</td>\n",
       "      <td>2</td>\n",
       "      <td>0</td>\n",
       "    </tr>\n",
       "    <tr>\n",
       "      <th>3</th>\n",
       "      <td>images_cytologia/0003ab57-1.jpg</td>\n",
       "      <td>0003ab57-1.jpg</td>\n",
       "      <td>train</td>\n",
       "      <td>368</td>\n",
       "      <td>369</td>\n",
       "      <td>f6c4d95d63ec8419</td>\n",
       "      <td>198.827933</td>\n",
       "      <td>44.390070</td>\n",
       "      <td>135792</td>\n",
       "      <td>16.235124</td>\n",
       "      <td>...</td>\n",
       "      <td>0</td>\n",
       "      <td>0</td>\n",
       "      <td>0</td>\n",
       "      <td>0</td>\n",
       "      <td>0</td>\n",
       "      <td>0</td>\n",
       "      <td>1</td>\n",
       "      <td>3</td>\n",
       "      <td>2</td>\n",
       "      <td>0</td>\n",
       "    </tr>\n",
       "    <tr>\n",
       "      <th>4</th>\n",
       "      <td>images_cytologia/000a7dc3-d.jpg</td>\n",
       "      <td>000a7dc3-d.jpg</td>\n",
       "      <td>train</td>\n",
       "      <td>368</td>\n",
       "      <td>369</td>\n",
       "      <td>a7168d7522a59f9c</td>\n",
       "      <td>204.639925</td>\n",
       "      <td>45.881671</td>\n",
       "      <td>135792</td>\n",
       "      <td>7.586603</td>\n",
       "      <td>...</td>\n",
       "      <td>0</td>\n",
       "      <td>0</td>\n",
       "      <td>0</td>\n",
       "      <td>0</td>\n",
       "      <td>10</td>\n",
       "      <td>0</td>\n",
       "      <td>0</td>\n",
       "      <td>3</td>\n",
       "      <td>2</td>\n",
       "      <td>2</td>\n",
       "    </tr>\n",
       "  </tbody>\n",
       "</table>\n",
       "<p>5 rows × 42 columns</p>\n",
       "</div>"
      ],
      "text/plain": [
       "                          filename            NAME    src  img_width  \\\n",
       "0  images_cytologia/00008cef-c.jpg  00008cef-c.jpg  train        368   \n",
       "1  images_cytologia/00010aae-3.jpg  00010aae-3.jpg  train        352   \n",
       "2  images_cytologia/00016779-d.jpg  00016779-d.jpg  train        352   \n",
       "3  images_cytologia/0003ab57-1.jpg  0003ab57-1.jpg  train        368   \n",
       "4  images_cytologia/000a7dc3-d.jpg  000a7dc3-d.jpg  train        368   \n",
       "\n",
       "   img_height             phash        mean        std  img_surface  \\\n",
       "0         370  b787daa066b8d247  209.093224  42.264992       136160   \n",
       "1         357  b4b0c86c26fe0f1f  186.580450  48.086801       125664   \n",
       "2         357  e9ca8c4c60943fbf  188.245209  47.232337       125664   \n",
       "3         369  f6c4d95d63ec8419  198.827933  44.390070       135792   \n",
       "4         369  a7168d7522a59f9c  204.639925  45.881671       135792   \n",
       "\n",
       "   bb_avg_surface_ratio  ...  LH_lyAct LM  LZMG  SS  multilabel  surface_bin  \\\n",
       "0             16.521739  ...         0  0     0   0           0            0   \n",
       "1             24.112713  ...         0  0     0   0           3            0   \n",
       "2             18.382353  ...         0  0     0   0           3            0   \n",
       "3             16.235124  ...         0  0     0   0           0            0   \n",
       "4              7.586603  ...         0  0     0   0          10            0   \n",
       "\n",
       "   bb_avg_surface_ratio_bin  mean_bin  std_bin  fold_s42  \n",
       "0                         1         4        2         1  \n",
       "1                         1         2        2         0  \n",
       "2                         1         3        2         0  \n",
       "3                         1         3        2         0  \n",
       "4                         0         3        2         2  \n",
       "\n",
       "[5 rows x 42 columns]"
      ]
     },
     "execution_count": 5,
     "metadata": {},
     "output_type": "execute_result"
    }
   ],
   "source": [
    "pd.read_parquet(TRAIN_FILE).head()"
   ]
  },
  {
   "cell_type": "markdown",
   "id": "43ed6d26-1a86-4a87-85ea-2a63c58dbf83",
   "metadata": {},
   "source": [
    "##### Multi-classes/boxes : timm_vit_large_patch16 with image size = 224, TTA: Horizontal flip (32 epochs, batch size=32)"
   ]
  },
  {
   "cell_type": "code",
   "execution_count": null,
   "id": "ba16dd57-cdd9-4a62-b341-895b8dd00ebf",
   "metadata": {},
   "outputs": [],
   "source": [
    "# Training time: Around 20h\n",
    "gc.collect()\n",
    "torch.cuda.empty_cache()\n",
    "train_and_infer(os.path.join(CONFIG_HOME, \"mc_vitl_224_1.2.4.json\"), BOXES_HOME, BOXES_HOME + \".parquet\", TEST_FILE, BOXES_TEST_HOME + \".parquet\", BOXES_TEST_HOME, light_augmentation_train,\n",
    "                background_home=None, background_file=None, tta=[[hflip]], tta_name=\"_hflip\", train_epochs=32, report_to=REPORT_TO)"
   ]
  },
  {
   "cell_type": "markdown",
   "id": "5fafc307-90c3-4158-bb51-dc162c635bb7",
   "metadata": {},
   "source": [
    "##### Multi-classes/boxes : timm_vit_large_patch16 with image size = 224 and background, TTA: Horizontal flip (32 epochs, batch size=32)"
   ]
  },
  {
   "cell_type": "code",
   "execution_count": null,
   "id": "a2d45b5c-b39a-4648-90c6-032045fd17ce",
   "metadata": {},
   "outputs": [],
   "source": [
    "# Training time: Around 20h\n",
    "gc.collect()\n",
    "torch.cuda.empty_cache()\n",
    "train_and_infer(os.path.join(CONFIG_HOME, \"mc_vitl_224_bg_1.2.5.json\"), BOXES_HOME, BOXES_HOME + \".parquet\", TEST_FILE, BOXES_TEST_HOME + \".parquet\", BOXES_TEST_HOME, light_augmentation_train,\n",
    "                background_home=BACKGROUND_HOME, background_file=BACKGROUND_FILE, tta=[[hflip]], tta_name=\"_hflip\", train_epochs=32, report_to=REPORT_TO)"
   ]
  },
  {
   "cell_type": "markdown",
   "id": "0eb5dcd2-d3d4-49f7-bbc1-b7067f22c761",
   "metadata": {},
   "source": [
    "##### Multi-classes/boxes : timm_nextvit_large with image size = 384, TTA: Horizontal flip (32 epochs, batch size=32)"
   ]
  },
  {
   "cell_type": "code",
   "execution_count": null,
   "id": "0fed2297-8e80-44bf-ba45-0ed46db4778f",
   "metadata": {},
   "outputs": [],
   "source": [
    "# Training time: Around 20h\n",
    "gc.collect()\n",
    "torch.cuda.empty_cache()\n",
    "train_and_infer(os.path.join(CONFIG_HOME, \"mc_nextvit_384_1.2.4.json\"), BOXES_HOME, BOXES_HOME + \".parquet\", TEST_FILE, BOXES_TEST_HOME + \".parquet\", BOXES_TEST_HOME, light_augmentation_train,\n",
    "                background_home=None, background_file=None, tta=[[hflip]], tta_name=\"_hflip\", train_epochs=32, report_to=REPORT_TO)"
   ]
  },
  {
   "cell_type": "markdown",
   "id": "7e7f75ff-44ba-4674-9ccd-bc1414124668",
   "metadata": {},
   "source": [
    "##### Multi-classes/boxes : timm_tf_efficientnetv2_m with image size = 512, TTA: Horizontal flip (32 epochs, batch size=32)"
   ]
  },
  {
   "cell_type": "code",
   "execution_count": null,
   "id": "5e841c64-6616-4135-a00a-460c742a63ac",
   "metadata": {},
   "outputs": [],
   "source": [
    "# Training time: Around 24h\n",
    "gc.collect()\n",
    "torch.cuda.empty_cache()\n",
    "train_and_infer(os.path.join(CONFIG_HOME, \"mc_effnetv2m_512_1.2.4.json\"), BOXES_HOME, BOXES_HOME + \".parquet\", TEST_FILE, BOXES_TEST_HOME + \".parquet\", BOXES_TEST_HOME, light_augmentation_train,\n",
    "                background_home=None, background_file=None, tta=[[hflip]], tta_name=\"_hflip\", train_epochs=32, report_to=REPORT_TO)"
   ]
  },
  {
   "cell_type": "markdown",
   "id": "c74636a4-69a5-4a11-b216-d4db62d6ca22",
   "metadata": {},
   "source": [
    "##### Multi-labels/Full images: timm_tf_efficientnetv2_m with image size = 512, No TTA  (32 epochs, batch size=32)"
   ]
  },
  {
   "cell_type": "code",
   "execution_count": null,
   "id": "3f21fb4d-5b9f-4a06-ac98-82f173708ede",
   "metadata": {},
   "outputs": [],
   "source": [
    "# Training time: Around 24h\n",
    "gc.collect()\n",
    "torch.cuda.empty_cache()\n",
    "train_and_infer(os.path.join(CONFIG_HOME, \"ml_effnetv2m_512_bg_1.3.0.json\"), DATA_HOME, TRAIN_FILE, TEST_FILE, None, None, light_augmentation_train,\n",
    "                background_home=BACKGROUND_HOME, background_file=BACKGROUND_FILE, tta=None, tta_name=\"_notta\", train_epochs=32, report_to=REPORT_TO)"
   ]
  },
  {
   "cell_type": "markdown",
   "id": "781b1d14-852f-44f4-a95c-ffa2b6bfc57a",
   "metadata": {},
   "source": [
    "## Perform models ensembling"
   ]
  },
  {
   "cell_type": "code",
   "execution_count": null,
   "id": "6ffe16e4-7d09-4fd1-8520-66bba85df7ec",
   "metadata": {},
   "outputs": [],
   "source": [
    "gc.collect()\n",
    "torch.cuda.empty_cache()"
   ]
  },
  {
   "cell_type": "code",
   "execution_count": null,
   "id": "9958f8d0-7eae-44a3-9272-76e65b14c527",
   "metadata": {},
   "outputs": [],
   "source": [
    "# CV=0.9250, LB=0.93527 (argmax)\n",
    "MODELS_DICT = {\n",
    "\n",
    "    # Multiclasses models\n",
    "    'cnn_and_transformers-bb-multiclass': {\n",
    "        # CV=0.9153\n",
    "        'root_dir_mc_512/0.3333': [\n",
    "            (f'{MODELS_HOME}/timm_tf_efficientnetv2_m.in21k_512_None_v1.2.4-pl-crop-m16/stage1/seed42', [[hflip]]), # CV=0.9102, LB(HFlip)=0.9281 - 20min\n",
    "        ],\n",
    "        # CV=0.9110\n",
    "        'root_dir_mc_224/0.3334': [\n",
    "            (f'{MODELS_HOME}/timm_vit_large_patch16_224.augreg_in21k_ft_in1k_224_None_v1.2.5-pl-crop-m16/stage1/seed42', [[hflip]]), # with background, CV=0.9037 LB(HFlip)=0.9254 LB(NoTTA)=0.9260 - 16min\n",
    "            (f'{MODELS_HOME}/timm_vit_large_patch16_224.augreg_in21k_ft_in1k_224_None_v1.2.4-pl-crop-m16/stage1/seed42', [[hflip]]), # CV=0.9061 LB(HFlip)=0.9265 LB(NoTTA)=0.9269 - 16min\n",
    "        ],\n",
    "        # CV=0.9109\n",
    "        'root_dir_mc_384/0.3333': [\n",
    "            (f'{MODELS_HOME}/timm_nextvit_large.bd_ssld_6m_in1k_384_384_None_v1.2.4-pl-crop-m16/stage1/seed42', [[hflip]]), # CV=0.9109 LB(HFlip)=0.9247 - 24min\n",
    "        ]        \n",
    "    },    \n",
    "\n",
    "    # Multilabels models\n",
    "    'cnn_and_transformers-multilabel': {\n",
    "        # CV=0.9215\n",
    "        'root_dir_ml_512/1.0': [\n",
    "            (f'{MODELS_HOME}/timm_tf_efficientnetv2_m.in21k_512_None_v1.3.0-pl/stage1/seed42', None), # with background, CV=0.9215, No TTA - 12min\n",
    "        ]\n",
    "    },\n",
    "}"
   ]
  },
  {
   "cell_type": "code",
   "execution_count": null,
   "id": "d03e3b11-430b-4cee-9f73-55f91e3d5921",
   "metadata": {},
   "outputs": [],
   "source": [
    "# Run Ensemble Inference\n",
    "execute_ensemble(MODELS_DICT, TEST_FILE, crop_test_file=BOXES_TEST_YOLOX31_HOME + \".parquet\", full_images_test_home=IMAGES_HOME, boxes_images_test_home=BOXES_TEST_YOLOX31_HOME, inference_name=INFERENCE_NAME)"
   ]
  },
  {
   "cell_type": "code",
   "execution_count": null,
   "id": "25c901a7-3671-4112-9f2a-b3acdf0c2a4a",
   "metadata": {},
   "outputs": [],
   "source": [
    "# Ensemble on OOF\n",
    "ensemble_oof(MODELS_DICT)\n",
    "ensemble_multiclass_pd, s = mc_ml_ensemble_oof(MODELS_DICT, alpha=0.5, inference_name=INFERENCE_NAME)\n",
    "print(\"OOF F1 multi-classes and multi-labels ensemble=%.4f\\n\"%s)\n",
    "# Same ensemble on Test\n",
    "ensemble_test(MODELS_DICT, inference_name=INFERENCE_NAME)\n",
    "folder = os.path.join(MODELS_HOME, \"ensemble_baseline\", \"_\".join(MODELS_DICT.keys()))\n",
    "ensemble_multiclass_pd, submission_csv_pd = mc_ml_ensemble_test(MODELS_DICT, TEST_FILE, folder, alpha=0.5, inference_name=INFERENCE_NAME)\n",
    "display(submission_csv_pd.head())\n",
    "# BBx: Extract best predictions (confidence > 0.92)\n",
    "ensemble_pd = pd.read_parquet(os.path.join(folder, \"ensemble_argmax%s.parquet\"%INFERENCE_NAME))\n",
    "print(ensemble_pd.shape)\n",
    "ensemble_pd = extract_predictions(ensemble_pd, TEST_FILE, confidence=0.920)\n",
    "print(ensemble_pd.shape)\n",
    "RD1_HOME = BOXES_HOME.replace(\"_train_cleaned\", \"_finetuning_rd1\")\n",
    "os.makedirs(RD1_HOME, exist_ok=True)\n",
    "dump_boxes(ensemble_pd, IMAGES_HOME, RD1_HOME, margins=MARGINS)\n",
    "ensemble_pd.to_parquet(RD1_HOME + \".parquet\")\n",
    "ensemble_pd = pd.read_parquet(RD1_HOME + \".parquet\")\n",
    "print(ensemble_pd.shape)\n",
    "# Full image: Extract best predictions (confidence > 0.92) with single cell\n",
    "RD1_NOCROP_HOME = BOXES_HOME.replace(\"_train_cleaned\", \"_nocrop_finetuning_rd1\")\n",
    "os.makedirs(RD1_NOCROP_HOME, exist_ok=True)\n",
    "test_pseudo_full_pd = extract_predictions_extended(ensemble_pd, TEST_YOLOX31_RAW_FILE, skip_box_thr=0.010, score=0.92)\n",
    "dump_boxes(test_pseudo_full_pd, IMAGES_HOME, RD1_NOCROP_HOME, margins=-1)\n",
    "test_pseudo_full_pd.to_parquet(RD1_NOCROP_HOME + \".parquet\")"
   ]
  },
  {
   "cell_type": "markdown",
   "id": "3d2604bf-5c6e-4b4d-b033-b1ef5d569cdc",
   "metadata": {},
   "source": [
    "## Finetuning (3 models)"
   ]
  },
  {
   "cell_type": "code",
   "execution_count": null,
   "id": "df831a7c-0156-4356-884f-e70efcf0f014",
   "metadata": {},
   "outputs": [],
   "source": [
    "RD1_HOME = BOXES_HOME.replace(\"_train_cleaned\", \"_finetuning_rd1\")\n",
    "RD1_NOCROP_HOME = BOXES_HOME.replace(\"_train_cleaned\", \"_nocrop_finetuning_rd1\")"
   ]
  },
  {
   "cell_type": "code",
   "execution_count": null,
   "id": "011f8b9e-4e47-4f52-ab6c-5098bd70f027",
   "metadata": {},
   "outputs": [],
   "source": [
    "# Training time: Around 20h\n",
    "gc.collect()\n",
    "torch.cuda.empty_cache()\n",
    "train_and_infer(os.path.join(CONFIG_HOME, \"mc_nextvit_384_1.4.0.json\"), [BOXES_HOME, RD1_HOME], [BOXES_HOME + \".parquet\", RD1_HOME + \".parquet\"], TEST_FILE, BOXES_TEST_HOME + \".parquet\", BOXES_TEST_HOME, light_augmentation_train,\n",
    "                background_home=None, background_file=None, tta=[[hflip]], tta_name=\"_hflip\", train_epochs=32, report_to=REPORT_TO)"
   ]
  },
  {
   "cell_type": "code",
   "execution_count": null,
   "id": "971b296f-11d5-4ed9-bf65-393b609a45e2",
   "metadata": {},
   "outputs": [],
   "source": [
    "# Training time: Around 24h\n",
    "gc.collect()\n",
    "torch.cuda.empty_cache()\n",
    "train_and_infer(os.path.join(CONFIG_HOME, \"mc_effnetv2m_512_1.4.0.json\"), [BOXES_HOME, RD1_HOME], [BOXES_HOME + \".parquet\", RD1_HOME + \".parquet\"], TEST_FILE, BOXES_TEST_HOME + \".parquet\", BOXES_TEST_HOME, light_augmentation_train,\n",
    "                background_home=None, background_file=None, tta=[[hflip]], tta_name=\"_hflip\", train_epochs=32, report_to=REPORT_TO)"
   ]
  },
  {
   "cell_type": "code",
   "execution_count": null,
   "id": "b36f720f-67af-4a98-b992-c7f73a4a7831",
   "metadata": {},
   "outputs": [],
   "source": [
    "# Training time: Around 15h\n",
    "gc.collect()\n",
    "torch.cuda.empty_cache()\n",
    "train_and_infer(os.path.join(CONFIG_HOME, \"ml_effnetv2m_512_bg_1.3.0_stage2.json\"), [DATA_HOME, RD1_NOCROP_HOME], [TRAIN_FILE, RD1_NOCROP_HOME + \".parquet\"], TEST_FILE, None, None, light_augmentation_train,\n",
    "                background_home=BACKGROUND_HOME, background_file=BACKGROUND_FILE, tta=None, tta_name=\"_notta\", train_epochs=18, report_to=REPORT_TO)"
   ]
  },
  {
   "cell_type": "markdown",
   "id": "0e0ac919-c0de-4a51-a12a-1e8a44f9f0ba",
   "metadata": {},
   "source": [
    "## Perform models ensembling"
   ]
  },
  {
   "cell_type": "code",
   "execution_count": null,
   "id": "5ecdb302-29b8-46bf-b23e-b5ecc7a12b07",
   "metadata": {},
   "outputs": [],
   "source": [
    "gc.collect()\n",
    "torch.cuda.empty_cache()"
   ]
  },
  {
   "cell_type": "code",
   "execution_count": null,
   "id": "18e524b8-6db7-4203-b48a-5368054fab77",
   "metadata": {},
   "outputs": [],
   "source": [
    "# CV=0.9269, LB=0.93776 (argmax)\n",
    "MODELS_DICT = {\n",
    "\n",
    "    # Multiclasses models\n",
    "    'cnn_and_transformers-bb-multiclass': {\n",
    "        # CV=0.9153\n",
    "        'root_dir_mc_512/0.3333': [\n",
    "            (f'{MODELS_HOME}/timm_tf_efficientnetv2_m.in21k_512_None_v1.4.0-pl-crop-m16/stage1/seed42', [[hflip]]), # CV=0.9132, rd1, LB(HFlip)=0.9308 - 20min\n",
    "        ],\n",
    "        # CV=0.9110\n",
    "        'root_dir_mc_224/0.3334': [\n",
    "            (f'{MODELS_HOME}/timm_vit_large_patch16_224.augreg_in21k_ft_in1k_224_None_v1.2.5-pl-crop-m16/stage1/seed42', [[hflip]]), # with background, CV=0.9037 LB(HFlip)=0.9254 LB(NoTTA)=0.9260 - 16min\n",
    "            (f'{MODELS_HOME}/timm_vit_large_patch16_224.augreg_in21k_ft_in1k_224_None_v1.2.4-pl-crop-m16/stage1/seed42', [[hflip]]), # CV=0.9061 LB(HFlip)=0.9265 LB(NoTTA)=0.9269 - 16min\n",
    "        ],\n",
    "        # CV=0.9115\n",
    "        'root_dir_mc_384/0.3333': [\n",
    "            (f'{MODELS_HOME}/timm_nextvit_large.bd_ssld_6m_in1k_384_384_None_v1.4.0-pl-crop-m16/stage1/seed42', [[hflip]]), # CV=0.9129, rd1, LB(HFlip)=0.9255 - 24min\n",
    "        ]        \n",
    "    },    \n",
    "\n",
    "    # Multilabels models\n",
    "    'cnn_and_transformers-multilabel': {\n",
    "        # CV=0.9250\n",
    "        'root_dir_ml_512/1.0': [\n",
    "            (f'{MODELS_HOME}/timm_tf_efficientnetv2_m.in21k_512_None_v1.3.0-pl/stage2/seed42', [[hflip]]), # with background, rd1, CV=0.9250, HFlip - 20min\n",
    "        ]\n",
    "    },\n",
    "}"
   ]
  },
  {
   "cell_type": "code",
   "execution_count": null,
   "id": "a0ad05af-da56-49f6-bcb1-5f4dc390aa45",
   "metadata": {},
   "outputs": [],
   "source": [
    "# Run Ensemble Inference\n",
    "execute_ensemble(MODELS_DICT, TEST_FILE, crop_test_file=BOXES_TEST_YOLOX31_HOME + \".parquet\", full_images_test_home=IMAGES_HOME, boxes_images_test_home=BOXES_TEST_YOLOX31_HOME, inference_name=INFERENCE_NAME)"
   ]
  },
  {
   "cell_type": "code",
   "execution_count": null,
   "id": "95882c7b-0688-44bd-922e-9e2d81199ae7",
   "metadata": {},
   "outputs": [],
   "source": [
    "# Ensemble on OOF\n",
    "ensemble_oof(MODELS_DICT)\n",
    "ensemble_multiclass_pd, s = mc_ml_ensemble_oof(MODELS_DICT, alpha=0.5, inference_name=INFERENCE_NAME)\n",
    "print(\"OOF F1 multi-classes and multi-labels ensemble=%.4f\\n\"%s)\n",
    "# Same ensemble on Test\n",
    "ensemble_test(MODELS_DICT, inference_name=INFERENCE_NAME)\n",
    "folder = os.path.join(MODELS_HOME, \"ensemble_finetuning_rd1\", \"_\".join(MODELS_DICT.keys()))\n",
    "ensemble_multiclass_pd, submission_csv_pd = mc_ml_ensemble_test(MODELS_DICT, TEST_FILE, folder, alpha=0.5, inference_name=INFERENCE_NAME)\n",
    "display(submission_csv_pd.head())\n",
    "# BBx: Extract best predictions (confidence > 0.88186)\n",
    "ensemble_pd = pd.read_parquet(os.path.join(folder, \"ensemble_argmax%s.parquet\"%INFERENCE_NAME))\n",
    "print(ensemble_pd.shape)\n",
    "ensemble_pd = extract_predictions(ensemble_pd, TEST_FILE, confidence=0.88186)\n",
    "print(ensemble_pd.shape)\n",
    "RD2_HOME = BOXES_HOME.replace(\"_train_cleaned\", \"_finetuning_rd2\")\n",
    "os.makedirs(RD2_HOME, exist_ok=True)\n",
    "dump_boxes(ensemble_pd, IMAGES_HOME, RD2_HOME, margins=MARGINS)\n",
    "ensemble_pd.to_parquet(RD2_HOME + \".parquet\")\n",
    "ensemble_pd = pd.read_parquet(RD2_HOME + \".parquet\")\n",
    "print(ensemble_pd.shape)\n",
    "# Full image: Extract best predictions (confidence > 0.88186) with single cell\n",
    "RD2_NOCROP_HOME = BOXES_HOME.replace(\"_train_cleaned\", \"_nocrop_finetuning_rd2\")\n",
    "os.makedirs(RD2_NOCROP_HOME, exist_ok=True)\n",
    "test_pseudo_full_pd = extract_predictions_extended(ensemble_pd, TEST_YOLOX31_RAW_FILE, skip_box_thr=0.010, wbf_score=0.949805, score=0.88186)\n",
    "dump_boxes(test_pseudo_full_pd, IMAGES_HOME, RD2_NOCROP_HOME, margins=-1)\n",
    "test_pseudo_full_pd.to_parquet(RD2_NOCROP_HOME + \".parquet\")"
   ]
  },
  {
   "cell_type": "code",
   "execution_count": null,
   "id": "190b9a92-823e-44b0-8345-8d1bccc61bb3",
   "metadata": {},
   "outputs": [],
   "source": [
    "RD2_HOME = BOXES_HOME.replace(\"_train_cleaned\", \"_finetuning_rd2\")\n",
    "RD2_NOCROP_HOME = BOXES_HOME.replace(\"_train_cleaned\", \"_nocrop_finetuning_rd2\")"
   ]
  },
  {
   "cell_type": "markdown",
   "id": "e636a3ed-79e6-4395-bbb3-d9de1e7a6910",
   "metadata": {},
   "source": [
    "## Train one more model (Foundation / DinoBloom / DinoV2)\n",
    "- Freeze model except the last 5 layers.\n",
    "- Batch size = 256\n",
    "- Make sure you've downloaded [DinoBloom-B pretrained weights](https://zenodo.org/records/10908163/files/DinoBloom-B.pth?download=1) under notebooks/ folder before running."
   ]
  },
  {
   "cell_type": "code",
   "execution_count": null,
   "id": "40e1eed0-4470-4236-ac23-cf6dfdb91e77",
   "metadata": {},
   "outputs": [],
   "source": [
    "# Training time: Around 16h\n",
    "gc.collect()\n",
    "torch.cuda.empty_cache()\n",
    "if not os.path.exists(\"DinoBloom-B.pth\"):\n",
    "    print(\"Please copy DinoBloom-B.pth under current notebooks/ folder\")\n",
    "    raise Exception(\"Missing weights\")\n",
    "train_and_infer(os.path.join(CONFIG_HOME, \"mc_dinobloom_224_1.4.0.6.json\"), [BOXES_HOME, RD2_HOME], [BOXES_HOME + \".parquet\", RD2_HOME + \".parquet\"], TEST_FILE, BOXES_TEST_HOME + \".parquet\", BOXES_TEST_HOME, light_augmentation_train,\n",
    "                background_home=None, background_file=None, tta=None, tta_name=\"_notta\", train_epochs=32, report_to=REPORT_TO)"
   ]
  },
  {
   "cell_type": "markdown",
   "id": "67bbdc7a-30d3-4946-a13a-d360d79eba71",
   "metadata": {},
   "source": [
    "## Train one more model (Tiny ViT 512)"
   ]
  },
  {
   "cell_type": "code",
   "execution_count": null,
   "id": "e25d05b0-e684-4d2b-8fc1-9ada443ea388",
   "metadata": {},
   "outputs": [],
   "source": [
    "# Training time: Around 24h\n",
    "gc.collect()\n",
    "torch.cuda.empty_cache()\n",
    "train_and_infer(os.path.join(CONFIG_HOME, \"mc_tinyvit_512_1.5.0.json\"), [BOXES_HOME, RD2_HOME], [BOXES_HOME + \".parquet\", RD2_HOME + \".parquet\"], TEST_FILE, BOXES_TEST_HOME + \".parquet\", BOXES_TEST_HOME, light_augmentation_train,\n",
    "                background_home=None, background_file=None, tta=None, tta_name=\"_notta\", train_epochs=36, report_to=REPORT_TO)"
   ]
  },
  {
   "cell_type": "markdown",
   "id": "47a25695-b229-4df8-a62b-36611b93018a",
   "metadata": {},
   "source": [
    "## Finetuning (3 models)"
   ]
  },
  {
   "cell_type": "code",
   "execution_count": null,
   "id": "a29dbf14-9401-416b-8d66-bd390fa8e441",
   "metadata": {},
   "outputs": [],
   "source": [
    "# Training time: Around 16h\n",
    "gc.collect()\n",
    "torch.cuda.empty_cache()\n",
    "train_and_infer(os.path.join(CONFIG_HOME, \"mc_nextvit_384_1.4.0_stage2.json\"), [BOXES_HOME, RD2_HOME], [BOXES_HOME + \".parquet\", RD2_HOME + \".parquet\"], TEST_FILE, BOXES_TEST_HOME + \".parquet\", BOXES_TEST_HOME, light_augmentation_train,\n",
    "                background_home=None, background_file=None, tta=[[hflip]], tta_name=\"_hflip\", train_epochs=24, report_to=REPORT_TO)"
   ]
  },
  {
   "cell_type": "code",
   "execution_count": null,
   "id": "44880b1e-fd7f-473c-8511-9cfec8555931",
   "metadata": {},
   "outputs": [],
   "source": [
    "# Training time: Around 16h\n",
    "gc.collect()\n",
    "torch.cuda.empty_cache()\n",
    "train_and_infer(os.path.join(CONFIG_HOME, \"mc_effnetv2m_512_1.4.0_stage2.json\"), [BOXES_HOME, RD2_HOME], [BOXES_HOME + \".parquet\", RD2_HOME + \".parquet\"], TEST_FILE, BOXES_TEST_HOME + \".parquet\", BOXES_TEST_HOME, light_augmentation_train,\n",
    "                background_home=None, background_file=None, tta=[[hflip]], tta_name=\"_hflip\", train_epochs=24, report_to=REPORT_TO)"
   ]
  },
  {
   "cell_type": "code",
   "execution_count": null,
   "id": "646aa1d9-8320-475d-9d39-7cc57230dbd9",
   "metadata": {},
   "outputs": [],
   "source": [
    "# Training time: Around 16h\n",
    "gc.collect()\n",
    "torch.cuda.empty_cache()\n",
    "train_and_infer(os.path.join(CONFIG_HOME, \"ml_effnetv2m_512_bg_1.3.0_stage3.json\"), [DATA_HOME, RD2_NOCROP_HOME], [TRAIN_FILE, RD2_NOCROP_HOME + \".parquet\"], TEST_FILE, None, None, light_augmentation_train,\n",
    "                background_home=BACKGROUND_HOME, background_file=BACKGROUND_FILE, tta=None, tta_name=\"_notta\", train_epochs=24, report_to=REPORT_TO)"
   ]
  },
  {
   "cell_type": "markdown",
   "id": "0da4f89f-39d4-4613-ba35-6f1c6a843fa1",
   "metadata": {},
   "source": [
    "## Perform models ensembling\n",
    "This final ensemble has the best CV > 0.93"
   ]
  },
  {
   "cell_type": "code",
   "execution_count": 6,
   "id": "3d880a2e-bc8f-4e44-8454-c823b38603df",
   "metadata": {},
   "outputs": [],
   "source": [
    "gc.collect()\n",
    "torch.cuda.empty_cache()"
   ]
  },
  {
   "cell_type": "code",
   "execution_count": 7,
   "id": "f1e5252e-6331-41e1-b574-49baa2a0147a",
   "metadata": {},
   "outputs": [],
   "source": [
    "# CV=0.9305 - LB=0.93692 (argmax)\n",
    "# 0.457/0.543 weights, CV=0.9313 - LB=0.93785 (argmax)\n",
    "MODELS_DICT = {\n",
    "\n",
    "    # Multiclasses models\n",
    "    'cnn_and_transformers-bb-multiclass': {\n",
    "        # CV=0.9182\n",
    "        'root_dir_mc_512/0.25': [\n",
    "            (f'{MODELS_HOME}/timm_tf_efficientnetv2_m.in21k_512_None_v1.4.0-pl-crop-m16/stage2/seed42', None), # CV=0.9182, rd2, LB=0.9323 - 10min,\n",
    "        ],\n",
    "        # CV=0.9191 with Dino\n",
    "        'root_dir_mc_224/0.25': [\n",
    "            (f'{MODELS_HOME}/timm_vit_large_patch16_224.augreg_in21k_ft_in1k_224_None_v1.2.5-pl-crop-m16/stage1/seed42', [[hflip]]), # with background, CV=0.9037 LB(HFlip)=0.9254 LB(NoTTA)=0.9260 - 16min\n",
    "            (f'{MODELS_HOME}/timm_vit_large_patch16_224.augreg_in21k_ft_in1k_224_None_v1.2.4-pl-crop-m16/stage1/seed42', [[hflip]]), # CV=0.9061 LB(HFlip)=0.9265 LB(NoTTA)=0.9269 - 16min\n",
    "            (f'{MODELS_HOME}/foundation_dinov2_vitb14_DinoBloom-B.pth_224_None_v1.4.0.6-pl-crop-m16/stage1/seed42', [[hflip]]),  # CV=0.9133, rd2, LB(HFlip)=0.9277 - 7min\n",
    "        ],\n",
    "        # CV=0.9165\n",
    "        'root_dir_mc_384/0.25': [\n",
    "            (f'{MODELS_HOME}/timm_nextvit_large.bd_ssld_6m_in1k_384_384_None_v1.4.0-pl-crop-m16/stage2/seed42', [[hflip]]), # CV=0.9165 rd2, LB(HFlip)=0.9279 - 24min\n",
    "        ],\n",
    "        # CV=0.9181\n",
    "        'root_dir_mc_tr_512/0.25': [\n",
    "            (f'{MODELS_HOME}/timm_tiny_vit_21m_512.dist_in22k_ft_in1k_512_None_v1.5.0-pl-crop-m16/stage1/seed42', None), # CV=0.9181 rd2, LB=0.9291 - 8min\n",
    "        ],          \n",
    "    },    \n",
    "\n",
    "    # Multilabels models\n",
    "    'cnn_and_transformers-multilabel': {\n",
    "        # CV=0.9279\n",
    "        'root_dir_ml_512/1.0': [\n",
    "            (f'{MODELS_HOME}/timm_tf_efficientnetv2_m.in21k_512_None_v1.3.0-pl/stage3/seed42', [[hflip]]), # with background rd2, CV=0.9301/0.9279, HFlip - 20min            \n",
    "        ]\n",
    "    },\n",
    "}"
   ]
  },
  {
   "cell_type": "code",
   "execution_count": 8,
   "id": "3d9ffa3d-5215-41d1-a72b-d02db19b5a84",
   "metadata": {},
   "outputs": [
    {
     "name": "stdout",
     "output_type": "stream",
     "text": [
      "Loading: root_dir_mc_512/0.25 [('../models/RGB/timm_tf_efficientnetv2_m.in21k_512_None_v1.4.0-pl-crop-m16/stage2/seed42', None)] (52197, 47) F1=0.9182\n",
      "Loading: root_dir_mc_224/0.25 [('../models/RGB/timm_vit_large_patch16_224.augreg_in21k_ft_in1k_224_None_v1.2.5-pl-crop-m16/stage1/seed42', [[<function hflip at 0x7f549d1aea70>]]), ('../models/RGB/timm_vit_large_patch16_224.augreg_in21k_ft_in1k_224_None_v1.2.4-pl-crop-m16/stage1/seed42', [[<function hflip at 0x7f549d1aea70>]]), ('../models/RGB/foundation_dinov2_vitb14_DinoBloom-B.pth_224_None_v1.4.0.6-pl-crop-m16/stage1/seed42', [[<function hflip at 0x7f549d1aea70>]])] (52197, 47) F1=0.9191\n",
      "Loading: root_dir_mc_384/0.25 [('../models/RGB/timm_nextvit_large.bd_ssld_6m_in1k_384_384_None_v1.4.0-pl-crop-m16/stage2/seed42', [[<function hflip at 0x7f549d1aea70>]])] (52197, 47) F1=0.9165\n",
      "Loading: root_dir_mc_tr_512/0.25 [('../models/RGB/timm_tiny_vit_21m_512.dist_in22k_ft_in1k_512_None_v1.5.0-pl-crop-m16/stage1/seed42', None)] (52197, 47) F1=0.9181\n",
      "Ensemble(x4): cnn_and_transformers-bb-multiclass (52197, 47) F1=0.9256 weights: [0.25, 0.25, 0.25, 0.25]\n",
      "Loading: root_dir_ml_512/1.0 [('../models/RGB/timm_tf_efficientnetv2_m.in21k_512_None_v1.3.0-pl/stage3/seed42', [[<function hflip at 0x7f549d1aea70>]])] (48263, 94) F1=0.9279\n",
      "Ensemble(x1): cnn_and_transformers-multilabel (48263, 94) F1=0.9279 weights: [1.0]\n",
      "Images with single WBC (45135, 49) 86.47% F1: 0.9311\n",
      "OOF F1 multi-classes and multi-labels ensemble=0.9305\n",
      "\n",
      "_inference_yoloxv3.1_5models\n",
      "Loading: root_dir_mc_512/0.25 [('../models/RGB/timm_tf_efficientnetv2_m.in21k_512_None_v1.4.0-pl-crop-m16/stage2/seed42', None)] (22689, 38)\n",
      "Loading: root_dir_mc_224/0.25 [('../models/RGB/timm_vit_large_patch16_224.augreg_in21k_ft_in1k_224_None_v1.2.5-pl-crop-m16/stage1/seed42', [[<function hflip at 0x7f549d1aea70>]]), ('../models/RGB/timm_vit_large_patch16_224.augreg_in21k_ft_in1k_224_None_v1.2.4-pl-crop-m16/stage1/seed42', [[<function hflip at 0x7f549d1aea70>]]), ('../models/RGB/foundation_dinov2_vitb14_DinoBloom-B.pth_224_None_v1.4.0.6-pl-crop-m16/stage1/seed42', [[<function hflip at 0x7f549d1aea70>]])] (22689, 38)\n",
      "Loading: root_dir_mc_384/0.25 [('../models/RGB/timm_nextvit_large.bd_ssld_6m_in1k_384_384_None_v1.4.0-pl-crop-m16/stage2/seed42', [[<function hflip at 0x7f549d1aea70>]])] (22689, 38)\n",
      "Loading: root_dir_mc_tr_512/0.25 [('../models/RGB/timm_tiny_vit_21m_512.dist_in22k_ft_in1k_512_None_v1.5.0-pl-crop-m16/stage1/seed42', None)] (22689, 38)\n",
      "Ensemble(x4): cnn_and_transformers-bb-multiclass (22689, 38) [0.25, 0.25, 0.25, 0.25]\n",
      "Loading: root_dir_ml_512/1.0 [('../models/RGB/timm_tf_efficientnetv2_m.in21k_512_None_v1.3.0-pl/stage3/seed42', [[<function hflip at 0x7f549d1aea70>]])] (22689, 51)\n",
      "Ensemble(x1): cnn_and_transformers-multilabel (20751, 50) [1.0]\n",
      "Images with single WBC (19373, 39) 85.38%\n",
      "Threshold 0.50 predictions has 4 WBC with multilabels\n",
      "Changes argmax (211): 1.09%\n"
     ]
    },
    {
     "data": {
      "text/html": [
       "<div>\n",
       "<style scoped>\n",
       "    .dataframe tbody tr th:only-of-type {\n",
       "        vertical-align: middle;\n",
       "    }\n",
       "\n",
       "    .dataframe tbody tr th {\n",
       "        vertical-align: top;\n",
       "    }\n",
       "\n",
       "    .dataframe thead th {\n",
       "        text-align: right;\n",
       "    }\n",
       "</style>\n",
       "<table border=\"1\" class=\"dataframe\">\n",
       "  <thead>\n",
       "    <tr style=\"text-align: right;\">\n",
       "      <th></th>\n",
       "      <th>trustii_id</th>\n",
       "      <th>NAME</th>\n",
       "      <th>x1</th>\n",
       "      <th>y1</th>\n",
       "      <th>x2</th>\n",
       "      <th>y2</th>\n",
       "      <th>class</th>\n",
       "    </tr>\n",
       "  </thead>\n",
       "  <tbody>\n",
       "    <tr>\n",
       "      <th>0</th>\n",
       "      <td>43232</td>\n",
       "      <td>681daf42-3.jpg</td>\n",
       "      <td>116</td>\n",
       "      <td>116</td>\n",
       "      <td>248</td>\n",
       "      <td>242</td>\n",
       "      <td>LLC</td>\n",
       "    </tr>\n",
       "    <tr>\n",
       "      <th>1</th>\n",
       "      <td>65979</td>\n",
       "      <td>172bf8a5-e.jpg</td>\n",
       "      <td>100</td>\n",
       "      <td>96</td>\n",
       "      <td>229</td>\n",
       "      <td>269</td>\n",
       "      <td>Lysee</td>\n",
       "    </tr>\n",
       "    <tr>\n",
       "      <th>2</th>\n",
       "      <td>60083</td>\n",
       "      <td>179a21ee-4.jpg</td>\n",
       "      <td>102</td>\n",
       "      <td>94</td>\n",
       "      <td>273</td>\n",
       "      <td>278</td>\n",
       "      <td>PM</td>\n",
       "    </tr>\n",
       "    <tr>\n",
       "      <th>3</th>\n",
       "      <td>7302</td>\n",
       "      <td>f15e265d-6.jpg</td>\n",
       "      <td>101</td>\n",
       "      <td>99</td>\n",
       "      <td>261</td>\n",
       "      <td>267</td>\n",
       "      <td>M</td>\n",
       "    </tr>\n",
       "    <tr>\n",
       "      <th>4</th>\n",
       "      <td>31846</td>\n",
       "      <td>94cbe9cc-3.jpg</td>\n",
       "      <td>118</td>\n",
       "      <td>112</td>\n",
       "      <td>244</td>\n",
       "      <td>254</td>\n",
       "      <td>PNN</td>\n",
       "    </tr>\n",
       "  </tbody>\n",
       "</table>\n",
       "</div>"
      ],
      "text/plain": [
       "   trustii_id            NAME   x1   y1   x2   y2  class\n",
       "0       43232  681daf42-3.jpg  116  116  248  242    LLC\n",
       "1       65979  172bf8a5-e.jpg  100   96  229  269  Lysee\n",
       "2       60083  179a21ee-4.jpg  102   94  273  278     PM\n",
       "3        7302  f15e265d-6.jpg  101   99  261  267      M\n",
       "4       31846  94cbe9cc-3.jpg  118  112  244  254    PNN"
      ]
     },
     "metadata": {},
     "output_type": "display_data"
    }
   ],
   "source": [
    "# Ensemble on OOF\n",
    "ensemble_oof(MODELS_DICT)\n",
    "ensemble_multiclass_pd, s = mc_ml_ensemble_oof(MODELS_DICT, alpha=0.5, inference_name=INFERENCE_NAME)\n",
    "print(\"OOF F1 multi-classes and multi-labels ensemble=%.4f\\n\"%s)\n",
    "# Same ensemble on Test\n",
    "ensemble_test(MODELS_DICT, inference_name=INFERENCE_NAME)\n",
    "folder = os.path.join(MODELS_HOME, \"ensemble_finetuning_rd2\", \"_\".join(MODELS_DICT.keys()))\n",
    "ensemble_multiclass_pd, submission_csv_pd = mc_ml_ensemble_test(MODELS_DICT, TEST_FILE, folder, alpha=0.5, inference_name=INFERENCE_NAME)\n",
    "display(submission_csv_pd.head())"
   ]
  },
  {
   "cell_type": "markdown",
   "id": "9a6f379c-83ee-4039-ba8a-583fe7ee8cd5",
   "metadata": {},
   "source": [
    "### Find the best weights on cross-validation to maximize score (GridSearch)"
   ]
  },
  {
   "cell_type": "code",
   "execution_count": 9,
   "id": "b461f0fd-607b-46af-9002-81111965ac39",
   "metadata": {},
   "outputs": [
    {
     "name": "stderr",
     "output_type": "stream",
     "text": [
      "100%|██████████████████████████████████████████████████████████████████████████████████████████████████████████████████████████| 600/600 [01:02<00:00,  9.59it/s]\n"
     ]
    },
    {
     "data": {
      "text/html": [
       "<div>\n",
       "<style scoped>\n",
       "    .dataframe tbody tr th:only-of-type {\n",
       "        vertical-align: middle;\n",
       "    }\n",
       "\n",
       "    .dataframe tbody tr th {\n",
       "        vertical-align: top;\n",
       "    }\n",
       "\n",
       "    .dataframe thead th {\n",
       "        text-align: right;\n",
       "    }\n",
       "</style>\n",
       "<table border=\"1\" class=\"dataframe\">\n",
       "  <thead>\n",
       "    <tr style=\"text-align: right;\">\n",
       "      <th></th>\n",
       "      <th>alpha</th>\n",
       "      <th>f1</th>\n",
       "    </tr>\n",
       "  </thead>\n",
       "  <tbody>\n",
       "    <tr>\n",
       "      <th>257</th>\n",
       "      <td>0.457</td>\n",
       "      <td>0.931258</td>\n",
       "    </tr>\n",
       "  </tbody>\n",
       "</table>\n",
       "</div>"
      ],
      "text/plain": [
       "     alpha        f1\n",
       "257  0.457  0.931258"
      ]
     },
     "metadata": {},
     "output_type": "display_data"
    },
    {
     "data": {
      "text/html": [
       "<div>\n",
       "<style scoped>\n",
       "    .dataframe tbody tr th:only-of-type {\n",
       "        vertical-align: middle;\n",
       "    }\n",
       "\n",
       "    .dataframe tbody tr th {\n",
       "        vertical-align: top;\n",
       "    }\n",
       "\n",
       "    .dataframe thead th {\n",
       "        text-align: right;\n",
       "    }\n",
       "</style>\n",
       "<table border=\"1\" class=\"dataframe\">\n",
       "  <thead>\n",
       "    <tr style=\"text-align: right;\">\n",
       "      <th></th>\n",
       "      <th>alpha</th>\n",
       "      <th>f1</th>\n",
       "    </tr>\n",
       "  </thead>\n",
       "  <tbody>\n",
       "    <tr>\n",
       "      <th>300</th>\n",
       "      <td>0.5</td>\n",
       "      <td>0.930454</td>\n",
       "    </tr>\n",
       "  </tbody>\n",
       "</table>\n",
       "</div>"
      ],
      "text/plain": [
       "     alpha        f1\n",
       "300    0.5  0.930454"
      ]
     },
     "metadata": {},
     "output_type": "display_data"
    }
   ],
   "source": [
    "multilabels_pd_ = MODELS_DICT['cnn_and_transformers-multilabel'][\"oof_pd\"]  # Image level\n",
    "multiclass_pd_ = MODELS_DICT['cnn_and_transformers-bb-multiclass'][\"oof_pd\"]  # Box level\n",
    "multiclass_pd_[\"wbc\"] = multiclass_pd_.groupby([\"NAME\"])[\"trustii_id\"].transform('count')\n",
    "multiclass_pd_[\"preds_unique\"] = multiclass_pd_.groupby([\"NAME\"])[\"preds\"].transform(\"nunique\")\n",
    "multiclass_single_wbc_pd_ = multiclass_pd_[multiclass_pd_[\"wbc\"] == 1].reset_index(drop=True)\n",
    "\n",
    "r = []\n",
    "for alpha in tqdm(range(200,800)):\n",
    "    alpha = alpha/1000\n",
    "    thr = 0.5\n",
    "    ensemble_probs_pd = ensemble_multiclass_multilabels(multiclass_single_wbc_pd_, multilabels_pd_, weights=[alpha, 1-alpha])\n",
    "    eprobs_col = [c for c in ensemble_probs_pd.columns if \"eprobs_\" in c]\n",
    "    # Ensemble ML + MC for single WBC per image\n",
    "    multiclass_single_wbc_ensemble_pd = pd.merge(multiclass_single_wbc_pd_, ensemble_probs_pd[[\"NAME\"] + eprobs_col], on=\"NAME\", how=\"inner\")\n",
    "    # Merge back to get final OOF\n",
    "    all_classes = sorted(multiclass_single_wbc_ensemble_pd[\"class\"].unique())\n",
    "    multiclass_single_wbc_ensemble_pd[\"preds_ensemble_argmax\"] = multiclass_single_wbc_ensemble_pd[eprobs_col].values.argmax(axis=1)\n",
    "    ensemble_multiclass_pd = pd.merge(multiclass_pd_, multiclass_single_wbc_ensemble_pd[[\"NAME\", \"preds_ensemble_argmax\"]], on='NAME', how='left')\n",
    "    ensemble_multiclass_pd.loc[ensemble_multiclass_pd[\"wbc\"] > 1, \"preds_ensemble_argmax\"] = ensemble_multiclass_pd[\"preds\"]\n",
    "    ensemble_multiclass_pd[\"preds_ensemble_argmax\"] = ensemble_multiclass_pd[\"preds_ensemble_argmax\"].astype(np.int32)\n",
    "    s = f1_score(ensemble_multiclass_pd[\"class\"].values, ensemble_multiclass_pd[\"preds_ensemble_argmax\"].values, average=\"macro\")\n",
    "    r.append((alpha, s))\n",
    "r = pd.DataFrame(r, columns=[\"alpha\", \"f1\"])\n",
    "\n",
    "best_weights = r[r[\"f1\"] == r[\"f1\"].max()]\n",
    "display(best_weights)\n",
    "display(r[r[\"alpha\"] == 0.5])\n",
    "\n",
    "ALPHA = best_weights[\"alpha\"].values[0]\n",
    "BEST_CV = best_weights[\"f1\"].values[0]"
   ]
  },
  {
   "cell_type": "code",
   "execution_count": 10,
   "id": "1305a5c6-ac14-43c7-9c00-c6717ca8d3b9",
   "metadata": {},
   "outputs": [
    {
     "data": {
      "image/png": "[encoded data removed]",
      "text/plain": [
       "<Figure size 1200x700 with 1 Axes>"
      ]
     },
     "metadata": {},
     "output_type": "display_data"
    }
   ],
   "source": [
    "fig, ax = plt.subplots(1, 1, figsize=(12, 7))\n",
    "d = sns.lineplot(data=r, x=\"alpha\", y=\"f1\", ax=ax)\n",
    "d = sns.scatterplot(x=[ALPHA], y=[BEST_CV], color=\"red\", s=48, label='Best CV')\n",
    "d = ax.axvline(ALPHA, color=\"red\",  ls=':', lw=1)\n",
    "d = ax.axhline(BEST_CV, color=\"red\", ls=':', lw=1)\n",
    "d = plt.title(\"Average, F1=%.4f at %.3f\"%(BEST_CV, ALPHA))"
   ]
  },
  {
   "cell_type": "markdown",
   "id": "d77d0b4c-d002-46ff-8dd0-43724f59b125",
   "metadata": {},
   "source": [
    "### Final: Run OOF and ensemble on test data with the best weights"
   ]
  },
  {
   "cell_type": "code",
   "execution_count": 11,
   "id": "06c89452-2915-4d41-9b32-6fed8866ed26",
   "metadata": {},
   "outputs": [
    {
     "name": "stdout",
     "output_type": "stream",
     "text": [
      "Generating submission for best CV=0.9313 with ALPHA=0.457\n",
      "Loading: root_dir_mc_512/0.25 [('../models/RGB/timm_tf_efficientnetv2_m.in21k_512_None_v1.4.0-pl-crop-m16/stage2/seed42', None)] (52197, 47) F1=0.9182\n",
      "Loading: root_dir_mc_224/0.25 [('../models/RGB/timm_vit_large_patch16_224.augreg_in21k_ft_in1k_224_None_v1.2.5-pl-crop-m16/stage1/seed42', [[<function hflip at 0x7f549d1aea70>]]), ('../models/RGB/timm_vit_large_patch16_224.augreg_in21k_ft_in1k_224_None_v1.2.4-pl-crop-m16/stage1/seed42', [[<function hflip at 0x7f549d1aea70>]]), ('../models/RGB/foundation_dinov2_vitb14_DinoBloom-B.pth_224_None_v1.4.0.6-pl-crop-m16/stage1/seed42', [[<function hflip at 0x7f549d1aea70>]])] (52197, 47) F1=0.9191\n",
      "Loading: root_dir_mc_384/0.25 [('../models/RGB/timm_nextvit_large.bd_ssld_6m_in1k_384_384_None_v1.4.0-pl-crop-m16/stage2/seed42', [[<function hflip at 0x7f549d1aea70>]])] (52197, 47) F1=0.9165\n",
      "Loading: root_dir_mc_tr_512/0.25 [('../models/RGB/timm_tiny_vit_21m_512.dist_in22k_ft_in1k_512_None_v1.5.0-pl-crop-m16/stage1/seed42', None)] (52197, 47) F1=0.9181\n",
      "Ensemble(x4): cnn_and_transformers-bb-multiclass (52197, 47) F1=0.9256 weights: [0.25, 0.25, 0.25, 0.25]\n",
      "Loading: root_dir_ml_512/1.0 [('../models/RGB/timm_tf_efficientnetv2_m.in21k_512_None_v1.3.0-pl/stage3/seed42', [[<function hflip at 0x7f549d1aea70>]])] (48263, 94) F1=0.9279\n",
      "Ensemble(x1): cnn_and_transformers-multilabel (48263, 94) F1=0.9279 weights: [1.0]\n",
      "Images with single WBC (45135, 49) 86.47% F1: 0.9311\n",
      "OOF F1 multi-classes and multi-labels ensemble=0.9313\n",
      "\n",
      "_inference_yoloxv3.1_5models\n",
      "Loading: root_dir_mc_512/0.25 [('../models/RGB/timm_tf_efficientnetv2_m.in21k_512_None_v1.4.0-pl-crop-m16/stage2/seed42', None)] (22689, 38)\n",
      "Loading: root_dir_mc_224/0.25 [('../models/RGB/timm_vit_large_patch16_224.augreg_in21k_ft_in1k_224_None_v1.2.5-pl-crop-m16/stage1/seed42', [[<function hflip at 0x7f549d1aea70>]]), ('../models/RGB/timm_vit_large_patch16_224.augreg_in21k_ft_in1k_224_None_v1.2.4-pl-crop-m16/stage1/seed42', [[<function hflip at 0x7f549d1aea70>]]), ('../models/RGB/foundation_dinov2_vitb14_DinoBloom-B.pth_224_None_v1.4.0.6-pl-crop-m16/stage1/seed42', [[<function hflip at 0x7f549d1aea70>]])] (22689, 38)\n",
      "Loading: root_dir_mc_384/0.25 [('../models/RGB/timm_nextvit_large.bd_ssld_6m_in1k_384_384_None_v1.4.0-pl-crop-m16/stage2/seed42', [[<function hflip at 0x7f549d1aea70>]])] (22689, 38)\n",
      "Loading: root_dir_mc_tr_512/0.25 [('../models/RGB/timm_tiny_vit_21m_512.dist_in22k_ft_in1k_512_None_v1.5.0-pl-crop-m16/stage1/seed42', None)] (22689, 38)\n",
      "Ensemble(x4): cnn_and_transformers-bb-multiclass (22689, 38) [0.25, 0.25, 0.25, 0.25]\n",
      "Loading: root_dir_ml_512/1.0 [('../models/RGB/timm_tf_efficientnetv2_m.in21k_512_None_v1.3.0-pl/stage3/seed42', [[<function hflip at 0x7f549d1aea70>]])] (22689, 51)\n",
      "Ensemble(x1): cnn_and_transformers-multilabel (20751, 50) [1.0]\n",
      "Images with single WBC (19373, 39) 85.38%\n",
      "Threshold 0.50 predictions has 4 WBC with multilabels\n",
      "Changes argmax (251): 1.30%\n"
     ]
    },
    {
     "data": {
      "text/html": [
       "<div>\n",
       "<style scoped>\n",
       "    .dataframe tbody tr th:only-of-type {\n",
       "        vertical-align: middle;\n",
       "    }\n",
       "\n",
       "    .dataframe tbody tr th {\n",
       "        vertical-align: top;\n",
       "    }\n",
       "\n",
       "    .dataframe thead th {\n",
       "        text-align: right;\n",
       "    }\n",
       "</style>\n",
       "<table border=\"1\" class=\"dataframe\">\n",
       "  <thead>\n",
       "    <tr style=\"text-align: right;\">\n",
       "      <th></th>\n",
       "      <th>trustii_id</th>\n",
       "      <th>NAME</th>\n",
       "      <th>x1</th>\n",
       "      <th>y1</th>\n",
       "      <th>x2</th>\n",
       "      <th>y2</th>\n",
       "      <th>class</th>\n",
       "    </tr>\n",
       "  </thead>\n",
       "  <tbody>\n",
       "    <tr>\n",
       "      <th>0</th>\n",
       "      <td>43232</td>\n",
       "      <td>681daf42-3.jpg</td>\n",
       "      <td>116</td>\n",
       "      <td>116</td>\n",
       "      <td>248</td>\n",
       "      <td>242</td>\n",
       "      <td>LLC</td>\n",
       "    </tr>\n",
       "    <tr>\n",
       "      <th>1</th>\n",
       "      <td>65979</td>\n",
       "      <td>172bf8a5-e.jpg</td>\n",
       "      <td>100</td>\n",
       "      <td>96</td>\n",
       "      <td>229</td>\n",
       "      <td>269</td>\n",
       "      <td>Lysee</td>\n",
       "    </tr>\n",
       "    <tr>\n",
       "      <th>2</th>\n",
       "      <td>60083</td>\n",
       "      <td>179a21ee-4.jpg</td>\n",
       "      <td>102</td>\n",
       "      <td>94</td>\n",
       "      <td>273</td>\n",
       "      <td>278</td>\n",
       "      <td>PM</td>\n",
       "    </tr>\n",
       "    <tr>\n",
       "      <th>3</th>\n",
       "      <td>7302</td>\n",
       "      <td>f15e265d-6.jpg</td>\n",
       "      <td>101</td>\n",
       "      <td>99</td>\n",
       "      <td>261</td>\n",
       "      <td>267</td>\n",
       "      <td>M</td>\n",
       "    </tr>\n",
       "    <tr>\n",
       "      <th>4</th>\n",
       "      <td>31846</td>\n",
       "      <td>94cbe9cc-3.jpg</td>\n",
       "      <td>118</td>\n",
       "      <td>112</td>\n",
       "      <td>244</td>\n",
       "      <td>254</td>\n",
       "      <td>PNN</td>\n",
       "    </tr>\n",
       "  </tbody>\n",
       "</table>\n",
       "</div>"
      ],
      "text/plain": [
       "   trustii_id            NAME   x1   y1   x2   y2  class\n",
       "0       43232  681daf42-3.jpg  116  116  248  242    LLC\n",
       "1       65979  172bf8a5-e.jpg  100   96  229  269  Lysee\n",
       "2       60083  179a21ee-4.jpg  102   94  273  278     PM\n",
       "3        7302  f15e265d-6.jpg  101   99  261  267      M\n",
       "4       31846  94cbe9cc-3.jpg  118  112  244  254    PNN"
      ]
     },
     "metadata": {},
     "output_type": "display_data"
    }
   ],
   "source": [
    "print(\"Generating submission for best CV=%.4f with ALPHA=%.3f\" % (BEST_CV, ALPHA))\n",
    "# Ensemble on OOF\n",
    "ensemble_oof(MODELS_DICT)\n",
    "ensemble_multiclass_pd, s = mc_ml_ensemble_oof(MODELS_DICT, alpha=ALPHA, inference_name=INFERENCE_NAME)\n",
    "print(\"OOF F1 multi-classes and multi-labels ensemble=%.4f\\n\"%s)\n",
    "# Same ensemble on Test\n",
    "ensemble_test(MODELS_DICT, inference_name=INFERENCE_NAME)\n",
    "folder = os.path.join(MODELS_HOME, \"ensemble_final\", \"_\".join(MODELS_DICT.keys()))\n",
    "ensemble_multiclass_pd, submission_csv_pd = mc_ml_ensemble_test(MODELS_DICT, TEST_FILE, folder, alpha=ALPHA, inference_name=INFERENCE_NAME)\n",
    "display(submission_csv_pd.head())"
   ]
  }
 ],
 "metadata": {
  "kernelspec": {
   "display_name": "Python 3 (ipykernel)",
   "language": "python",
   "name": "python3"
  },
  "language_info": {
   "codemirror_mode": {
    "name": "ipython",
    "version": 3
   },
   "file_extension": ".py",
   "mimetype": "text/x-python",
   "name": "python",
   "nbconvert_exporter": "python",
   "pygments_lexer": "ipython3",
   "version": "3.10.13"
  }
 },
 "nbformat": 4,
 "nbformat_minor": 5
}
